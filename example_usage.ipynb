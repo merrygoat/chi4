{
 "cells": [
  {
   "cell_type": "markdown",
   "metadata": {},
   "source": [
    "# Trajectory based chi 4 measurment"
   ]
  },
  {
   "cell_type": "code",
   "execution_count": null,
   "metadata": {
    "collapsed": true
   },
   "outputs": [],
   "source": [
    "import chi4\n",
    "\n",
    "filename = \"example.xyz\"  # The name of the input file. xyz and cg files accepted. See readme for more details.\n",
    "num_dimensions = 2        # The number of spatial dimensions of the input data.\n",
    "threshold = 0.3           # The chi 4 dispalcement threshold\n",
    "number_density = 100      # Used along with the number of particles for normalisation of the chi4\n",
    "\n",
    "chi4.main(filename, num_dimensions, threshold, number_density)"
   ]
  }
 ],
 "metadata": {
  "kernelspec": {
   "display_name": "Python 3",
   "language": "python",
   "name": "python3"
  },
  "language_info": {
   "codemirror_mode": {
    "name": "ipython",
    "version": 3
   },
   "file_extension": ".py",
   "mimetype": "text/x-python",
   "name": "python",
   "nbconvert_exporter": "python",
   "pygments_lexer": "ipython3",
   "version": "3.5.3"
  }
 },
 "nbformat": 4,
 "nbformat_minor": 2
}
